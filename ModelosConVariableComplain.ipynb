{
 "cells": [
  {
   "cell_type": "code",
   "execution_count": 1,
   "metadata": {},
   "outputs": [],
   "source": [
    "import pandas as pd \n",
    "import numpy as np\n",
    "import matplotlib.pyplot as plt\n",
    "import seaborn as sns"
   ]
  },
  {
   "cell_type": "code",
   "execution_count": 2,
   "metadata": {},
   "outputs": [
    {
     "data": {
      "text/html": [
       "<div>\n",
       "<style scoped>\n",
       "    .dataframe tbody tr th:only-of-type {\n",
       "        vertical-align: middle;\n",
       "    }\n",
       "\n",
       "    .dataframe tbody tr th {\n",
       "        vertical-align: top;\n",
       "    }\n",
       "\n",
       "    .dataframe thead th {\n",
       "        text-align: right;\n",
       "    }\n",
       "</style>\n",
       "<table border=\"1\" class=\"dataframe\">\n",
       "  <thead>\n",
       "    <tr style=\"text-align: right;\">\n",
       "      <th></th>\n",
       "      <th>Geography</th>\n",
       "      <th>Gender</th>\n",
       "      <th>Tenure</th>\n",
       "      <th>Balance</th>\n",
       "      <th>NumOfProducts</th>\n",
       "      <th>HasCrCard</th>\n",
       "      <th>IsActiveMember</th>\n",
       "      <th>EstimatedSalary</th>\n",
       "      <th>Exited</th>\n",
       "      <th>Complain</th>\n",
       "      <th>Satisfaction Score</th>\n",
       "      <th>Card Type</th>\n",
       "      <th>Point Earned</th>\n",
       "      <th>CreditScoreCategorizada</th>\n",
       "      <th>AgeCategorizada</th>\n",
       "    </tr>\n",
       "  </thead>\n",
       "  <tbody>\n",
       "    <tr>\n",
       "      <th>0</th>\n",
       "      <td>Spain</td>\n",
       "      <td>Female</td>\n",
       "      <td>1</td>\n",
       "      <td>83807.86</td>\n",
       "      <td>1</td>\n",
       "      <td>0</td>\n",
       "      <td>1</td>\n",
       "      <td>112542.58</td>\n",
       "      <td>0</td>\n",
       "      <td>1</td>\n",
       "      <td>3</td>\n",
       "      <td>DIAMOND</td>\n",
       "      <td>456</td>\n",
       "      <td>Fair</td>\n",
       "      <td>Adultos</td>\n",
       "    </tr>\n",
       "    <tr>\n",
       "      <th>1</th>\n",
       "      <td>France</td>\n",
       "      <td>Female</td>\n",
       "      <td>8</td>\n",
       "      <td>159660.80</td>\n",
       "      <td>3</td>\n",
       "      <td>1</td>\n",
       "      <td>0</td>\n",
       "      <td>113931.57</td>\n",
       "      <td>1</td>\n",
       "      <td>1</td>\n",
       "      <td>3</td>\n",
       "      <td>DIAMOND</td>\n",
       "      <td>377</td>\n",
       "      <td>Poor</td>\n",
       "      <td>Adultos</td>\n",
       "    </tr>\n",
       "    <tr>\n",
       "      <th>2</th>\n",
       "      <td>France</td>\n",
       "      <td>Female</td>\n",
       "      <td>1</td>\n",
       "      <td>0.00</td>\n",
       "      <td>2</td>\n",
       "      <td>0</td>\n",
       "      <td>0</td>\n",
       "      <td>93826.63</td>\n",
       "      <td>0</td>\n",
       "      <td>0</td>\n",
       "      <td>5</td>\n",
       "      <td>GOLD</td>\n",
       "      <td>350</td>\n",
       "      <td>Good</td>\n",
       "      <td>Adultos</td>\n",
       "    </tr>\n",
       "    <tr>\n",
       "      <th>3</th>\n",
       "      <td>Spain</td>\n",
       "      <td>Female</td>\n",
       "      <td>2</td>\n",
       "      <td>125510.82</td>\n",
       "      <td>1</td>\n",
       "      <td>1</td>\n",
       "      <td>1</td>\n",
       "      <td>79084.10</td>\n",
       "      <td>0</td>\n",
       "      <td>0</td>\n",
       "      <td>5</td>\n",
       "      <td>GOLD</td>\n",
       "      <td>425</td>\n",
       "      <td>Excellent</td>\n",
       "      <td>Adultos</td>\n",
       "    </tr>\n",
       "    <tr>\n",
       "      <th>4</th>\n",
       "      <td>Spain</td>\n",
       "      <td>Male</td>\n",
       "      <td>8</td>\n",
       "      <td>113755.78</td>\n",
       "      <td>2</td>\n",
       "      <td>1</td>\n",
       "      <td>0</td>\n",
       "      <td>149756.71</td>\n",
       "      <td>1</td>\n",
       "      <td>1</td>\n",
       "      <td>5</td>\n",
       "      <td>DIAMOND</td>\n",
       "      <td>484</td>\n",
       "      <td>Fair</td>\n",
       "      <td>Adultos</td>\n",
       "    </tr>\n",
       "    <tr>\n",
       "      <th>...</th>\n",
       "      <td>...</td>\n",
       "      <td>...</td>\n",
       "      <td>...</td>\n",
       "      <td>...</td>\n",
       "      <td>...</td>\n",
       "      <td>...</td>\n",
       "      <td>...</td>\n",
       "      <td>...</td>\n",
       "      <td>...</td>\n",
       "      <td>...</td>\n",
       "      <td>...</td>\n",
       "      <td>...</td>\n",
       "      <td>...</td>\n",
       "      <td>...</td>\n",
       "      <td>...</td>\n",
       "    </tr>\n",
       "    <tr>\n",
       "      <th>9495</th>\n",
       "      <td>France</td>\n",
       "      <td>Male</td>\n",
       "      <td>5</td>\n",
       "      <td>0.00</td>\n",
       "      <td>2</td>\n",
       "      <td>1</td>\n",
       "      <td>0</td>\n",
       "      <td>96270.64</td>\n",
       "      <td>0</td>\n",
       "      <td>0</td>\n",
       "      <td>1</td>\n",
       "      <td>DIAMOND</td>\n",
       "      <td>300</td>\n",
       "      <td>Very Good</td>\n",
       "      <td>Adultos</td>\n",
       "    </tr>\n",
       "    <tr>\n",
       "      <th>9496</th>\n",
       "      <td>France</td>\n",
       "      <td>Male</td>\n",
       "      <td>10</td>\n",
       "      <td>57369.61</td>\n",
       "      <td>1</td>\n",
       "      <td>1</td>\n",
       "      <td>1</td>\n",
       "      <td>101699.77</td>\n",
       "      <td>0</td>\n",
       "      <td>0</td>\n",
       "      <td>5</td>\n",
       "      <td>PLATINUM</td>\n",
       "      <td>771</td>\n",
       "      <td>Poor</td>\n",
       "      <td>Jovenes-Adultos</td>\n",
       "    </tr>\n",
       "    <tr>\n",
       "      <th>9497</th>\n",
       "      <td>France</td>\n",
       "      <td>Female</td>\n",
       "      <td>7</td>\n",
       "      <td>0.00</td>\n",
       "      <td>1</td>\n",
       "      <td>0</td>\n",
       "      <td>1</td>\n",
       "      <td>42085.58</td>\n",
       "      <td>1</td>\n",
       "      <td>1</td>\n",
       "      <td>3</td>\n",
       "      <td>SILVER</td>\n",
       "      <td>564</td>\n",
       "      <td>Good</td>\n",
       "      <td>Adultos</td>\n",
       "    </tr>\n",
       "    <tr>\n",
       "      <th>9498</th>\n",
       "      <td>Germany</td>\n",
       "      <td>Male</td>\n",
       "      <td>3</td>\n",
       "      <td>75075.31</td>\n",
       "      <td>2</td>\n",
       "      <td>1</td>\n",
       "      <td>0</td>\n",
       "      <td>92888.52</td>\n",
       "      <td>1</td>\n",
       "      <td>1</td>\n",
       "      <td>2</td>\n",
       "      <td>GOLD</td>\n",
       "      <td>339</td>\n",
       "      <td>Very Good</td>\n",
       "      <td>Adultos</td>\n",
       "    </tr>\n",
       "    <tr>\n",
       "      <th>9499</th>\n",
       "      <td>France</td>\n",
       "      <td>Female</td>\n",
       "      <td>4</td>\n",
       "      <td>130142.79</td>\n",
       "      <td>1</td>\n",
       "      <td>1</td>\n",
       "      <td>0</td>\n",
       "      <td>38190.78</td>\n",
       "      <td>0</td>\n",
       "      <td>0</td>\n",
       "      <td>3</td>\n",
       "      <td>DIAMOND</td>\n",
       "      <td>911</td>\n",
       "      <td>Very Good</td>\n",
       "      <td>Jovenes-Adultos</td>\n",
       "    </tr>\n",
       "  </tbody>\n",
       "</table>\n",
       "<p>9500 rows × 15 columns</p>\n",
       "</div>"
      ],
      "text/plain": [
       "     Geography  Gender  Tenure    Balance  NumOfProducts  HasCrCard  \\\n",
       "0        Spain  Female       1   83807.86              1          0   \n",
       "1       France  Female       8  159660.80              3          1   \n",
       "2       France  Female       1       0.00              2          0   \n",
       "3        Spain  Female       2  125510.82              1          1   \n",
       "4        Spain    Male       8  113755.78              2          1   \n",
       "...        ...     ...     ...        ...            ...        ...   \n",
       "9495    France    Male       5       0.00              2          1   \n",
       "9496    France    Male      10   57369.61              1          1   \n",
       "9497    France  Female       7       0.00              1          0   \n",
       "9498   Germany    Male       3   75075.31              2          1   \n",
       "9499    France  Female       4  130142.79              1          1   \n",
       "\n",
       "      IsActiveMember  EstimatedSalary  Exited  Complain  Satisfaction Score  \\\n",
       "0                  1        112542.58       0         1                   3   \n",
       "1                  0        113931.57       1         1                   3   \n",
       "2                  0         93826.63       0         0                   5   \n",
       "3                  1         79084.10       0         0                   5   \n",
       "4                  0        149756.71       1         1                   5   \n",
       "...              ...              ...     ...       ...                 ...   \n",
       "9495               0         96270.64       0         0                   1   \n",
       "9496               1        101699.77       0         0                   5   \n",
       "9497               1         42085.58       1         1                   3   \n",
       "9498               0         92888.52       1         1                   2   \n",
       "9499               0         38190.78       0         0                   3   \n",
       "\n",
       "     Card Type  Point Earned CreditScoreCategorizada  AgeCategorizada  \n",
       "0      DIAMOND           456                    Fair          Adultos  \n",
       "1      DIAMOND           377                    Poor          Adultos  \n",
       "2         GOLD           350                    Good          Adultos  \n",
       "3         GOLD           425               Excellent          Adultos  \n",
       "4      DIAMOND           484                    Fair          Adultos  \n",
       "...        ...           ...                     ...              ...  \n",
       "9495   DIAMOND           300               Very Good          Adultos  \n",
       "9496  PLATINUM           771                    Poor  Jovenes-Adultos  \n",
       "9497    SILVER           564                    Good          Adultos  \n",
       "9498      GOLD           339               Very Good          Adultos  \n",
       "9499   DIAMOND           911               Very Good  Jovenes-Adultos  \n",
       "\n",
       "[9500 rows x 15 columns]"
      ]
     },
     "execution_count": 2,
     "metadata": {},
     "output_type": "execute_result"
    }
   ],
   "source": [
    "df = pd.read_csv(\"./Data/DataFrameParaHacerModelos.csv\")\n",
    "df"
   ]
  },
  {
   "attachments": {},
   "cell_type": "markdown",
   "metadata": {},
   "source": [
    "# Ahora vamos a empezar a separar los datos en train y test para modelizar con los datos que tenemos "
   ]
  },
  {
   "cell_type": "code",
   "execution_count": 3,
   "metadata": {},
   "outputs": [
    {
     "data": {
      "text/plain": [
       "['Geography',\n",
       " 'Gender',\n",
       " 'Tenure',\n",
       " 'Balance',\n",
       " 'NumOfProducts',\n",
       " 'HasCrCard',\n",
       " 'IsActiveMember',\n",
       " 'EstimatedSalary',\n",
       " 'Complain',\n",
       " 'Satisfaction Score',\n",
       " 'Card Type',\n",
       " 'Point Earned',\n",
       " 'CreditScoreCategorizada',\n",
       " 'AgeCategorizada']"
      ]
     },
     "execution_count": 3,
     "metadata": {},
     "output_type": "execute_result"
    }
   ],
   "source": [
    "variablesx = list(df.columns)\n",
    "variablesx.remove(\"Exited\")\n",
    "variablesx\n"
   ]
  },
  {
   "cell_type": "code",
   "execution_count": 4,
   "metadata": {},
   "outputs": [
    {
     "data": {
      "text/plain": [
       "0       0\n",
       "1       1\n",
       "2       0\n",
       "3       0\n",
       "4       1\n",
       "       ..\n",
       "9495    0\n",
       "9496    0\n",
       "9497    1\n",
       "9498    1\n",
       "9499    0\n",
       "Name: Exited, Length: 9500, dtype: int64"
      ]
     },
     "execution_count": 4,
     "metadata": {},
     "output_type": "execute_result"
    }
   ],
   "source": [
    "x = df[variablesx]\n",
    "y = df[\"Exited\"]\n",
    "y\n"
   ]
  },
  {
   "attachments": {},
   "cell_type": "markdown",
   "metadata": {},
   "source": [
    "# Categoricas\n",
    "\n",
    "['Geography',\n",
    " 'Gender',\n",
    " 'Card Type',\n",
    " 'CreditScoreCategorizada',\n",
    " 'AgeCategorizada',\n",
    " 'HasCrCard',\n",
    " 'IsActiveMember',\n",
    " 'Complain',\n",
    " 'Satisfaction Score']"
   ]
  },
  {
   "attachments": {},
   "cell_type": "markdown",
   "metadata": {},
   "source": [
    "# Numericas\n",
    "\n",
    "    - Balance\n",
    "    - EstimatedSalary  \n",
    "    - Point Earned\n",
    "    - Tenure\n",
    "    - NumOfProducts "
   ]
  },
  {
   "cell_type": "code",
   "execution_count": 5,
   "metadata": {},
   "outputs": [],
   "source": [
    "from sklearn.model_selection import train_test_split\n",
    "x_train,x_test,y_train,y_test = train_test_split(x,y,test_size=0.2,random_state=922)"
   ]
  },
  {
   "cell_type": "code",
   "execution_count": 6,
   "metadata": {},
   "outputs": [],
   "source": [
    "from sklearn.preprocessing import OneHotEncoder\n",
    "\n",
    "ohe = OneHotEncoder(sparse_output=False)\n",
    "columns_to_encode = ['Geography','Gender','Card Type','CreditScoreCategorizada','AgeCategorizada','HasCrCard','IsActiveMember','Complain','Satisfaction Score']\n",
    "encoded_columns_train = ohe.fit_transform(x_train[columns_to_encode].values)\n",
    "encoded_columns_test = ohe.transform(x_test[columns_to_encode].values)"
   ]
  },
  {
   "cell_type": "code",
   "execution_count": 32,
   "metadata": {},
   "outputs": [],
   "source": [
    "import pickle \n",
    "\n",
    "with open ('./Transformaciones/TransformacionOHEVariableComplain.pkl',\"wb\") as f:\n",
    "    pickle.dump(ohe,f)"
   ]
  },
  {
   "cell_type": "code",
   "execution_count": 7,
   "metadata": {},
   "outputs": [],
   "source": [
    "from sklearn.preprocessing import StandardScaler\n",
    "scaler = StandardScaler()\n",
    "columns_to_escaler = [\"Balance\",\"EstimatedSalary\",\"Point Earned\",\"Tenure\",\"NumOfProducts\"]\n",
    "escaler_columns_train = scaler.fit_transform(x_train[columns_to_escaler].values)\n",
    "escaler_columns_test = scaler.transform(x_test[columns_to_escaler].values)"
   ]
  },
  {
   "cell_type": "code",
   "execution_count": 33,
   "metadata": {},
   "outputs": [],
   "source": [
    "with open(\"./Transformaciones/TransformacionSCALERVariableComplain.pkl\",\"wb\")as f:\n",
    "    pickle.dump(scaler,f)"
   ]
  },
  {
   "cell_type": "code",
   "execution_count": 8,
   "metadata": {},
   "outputs": [
    {
     "name": "stdout",
     "output_type": "stream",
     "text": [
      "(1900, 30)\n"
     ]
    },
    {
     "data": {
      "text/plain": [
       "(7600, 30)"
      ]
     },
     "execution_count": 8,
     "metadata": {},
     "output_type": "execute_result"
    }
   ],
   "source": [
    "print(encoded_columns_test.shape)\n",
    "encoded_columns_train.shape\n"
   ]
  },
  {
   "cell_type": "code",
   "execution_count": 9,
   "metadata": {},
   "outputs": [],
   "source": [
    "x_train_final = np.concatenate([encoded_columns_train,escaler_columns_train],axis=1)\n",
    "x_test_final = np.concatenate([encoded_columns_test,escaler_columns_test],axis=1)"
   ]
  },
  {
   "cell_type": "code",
   "execution_count": 10,
   "metadata": {},
   "outputs": [
    {
     "name": "stdout",
     "output_type": "stream",
     "text": [
      "(7600, 35)\n"
     ]
    },
    {
     "data": {
      "text/plain": [
       "(1900, 35)"
      ]
     },
     "execution_count": 10,
     "metadata": {},
     "output_type": "execute_result"
    }
   ],
   "source": [
    "print(x_train_final.shape)\n",
    "x_test_final.shape"
   ]
  },
  {
   "attachments": {},
   "cell_type": "markdown",
   "metadata": {},
   "source": [
    "# Regresion Logistica"
   ]
  },
  {
   "cell_type": "code",
   "execution_count": 11,
   "metadata": {},
   "outputs": [
    {
     "data": {
      "text/html": [
       "<style>#sk-container-id-1 {color: black;background-color: white;}#sk-container-id-1 pre{padding: 0;}#sk-container-id-1 div.sk-toggleable {background-color: white;}#sk-container-id-1 label.sk-toggleable__label {cursor: pointer;display: block;width: 100%;margin-bottom: 0;padding: 0.3em;box-sizing: border-box;text-align: center;}#sk-container-id-1 label.sk-toggleable__label-arrow:before {content: \"▸\";float: left;margin-right: 0.25em;color: #696969;}#sk-container-id-1 label.sk-toggleable__label-arrow:hover:before {color: black;}#sk-container-id-1 div.sk-estimator:hover label.sk-toggleable__label-arrow:before {color: black;}#sk-container-id-1 div.sk-toggleable__content {max-height: 0;max-width: 0;overflow: hidden;text-align: left;background-color: #f0f8ff;}#sk-container-id-1 div.sk-toggleable__content pre {margin: 0.2em;color: black;border-radius: 0.25em;background-color: #f0f8ff;}#sk-container-id-1 input.sk-toggleable__control:checked~div.sk-toggleable__content {max-height: 200px;max-width: 100%;overflow: auto;}#sk-container-id-1 input.sk-toggleable__control:checked~label.sk-toggleable__label-arrow:before {content: \"▾\";}#sk-container-id-1 div.sk-estimator input.sk-toggleable__control:checked~label.sk-toggleable__label {background-color: #d4ebff;}#sk-container-id-1 div.sk-label input.sk-toggleable__control:checked~label.sk-toggleable__label {background-color: #d4ebff;}#sk-container-id-1 input.sk-hidden--visually {border: 0;clip: rect(1px 1px 1px 1px);clip: rect(1px, 1px, 1px, 1px);height: 1px;margin: -1px;overflow: hidden;padding: 0;position: absolute;width: 1px;}#sk-container-id-1 div.sk-estimator {font-family: monospace;background-color: #f0f8ff;border: 1px dotted black;border-radius: 0.25em;box-sizing: border-box;margin-bottom: 0.5em;}#sk-container-id-1 div.sk-estimator:hover {background-color: #d4ebff;}#sk-container-id-1 div.sk-parallel-item::after {content: \"\";width: 100%;border-bottom: 1px solid gray;flex-grow: 1;}#sk-container-id-1 div.sk-label:hover label.sk-toggleable__label {background-color: #d4ebff;}#sk-container-id-1 div.sk-serial::before {content: \"\";position: absolute;border-left: 1px solid gray;box-sizing: border-box;top: 0;bottom: 0;left: 50%;z-index: 0;}#sk-container-id-1 div.sk-serial {display: flex;flex-direction: column;align-items: center;background-color: white;padding-right: 0.2em;padding-left: 0.2em;position: relative;}#sk-container-id-1 div.sk-item {position: relative;z-index: 1;}#sk-container-id-1 div.sk-parallel {display: flex;align-items: stretch;justify-content: center;background-color: white;position: relative;}#sk-container-id-1 div.sk-item::before, #sk-container-id-1 div.sk-parallel-item::before {content: \"\";position: absolute;border-left: 1px solid gray;box-sizing: border-box;top: 0;bottom: 0;left: 50%;z-index: -1;}#sk-container-id-1 div.sk-parallel-item {display: flex;flex-direction: column;z-index: 1;position: relative;background-color: white;}#sk-container-id-1 div.sk-parallel-item:first-child::after {align-self: flex-end;width: 50%;}#sk-container-id-1 div.sk-parallel-item:last-child::after {align-self: flex-start;width: 50%;}#sk-container-id-1 div.sk-parallel-item:only-child::after {width: 0;}#sk-container-id-1 div.sk-dashed-wrapped {border: 1px dashed gray;margin: 0 0.4em 0.5em 0.4em;box-sizing: border-box;padding-bottom: 0.4em;background-color: white;}#sk-container-id-1 div.sk-label label {font-family: monospace;font-weight: bold;display: inline-block;line-height: 1.2em;}#sk-container-id-1 div.sk-label-container {text-align: center;}#sk-container-id-1 div.sk-container {/* jupyter's `normalize.less` sets `[hidden] { display: none; }` but bootstrap.min.css set `[hidden] { display: none !important; }` so we also need the `!important` here to be able to override the default hidden behavior on the sphinx rendered scikit-learn.org. See: https://github.com/scikit-learn/scikit-learn/issues/21755 */display: inline-block !important;position: relative;}#sk-container-id-1 div.sk-text-repr-fallback {display: none;}</style><div id=\"sk-container-id-1\" class=\"sk-top-container\"><div class=\"sk-text-repr-fallback\"><pre>LogisticRegression(max_iter=300, random_state=922)</pre><b>In a Jupyter environment, please rerun this cell to show the HTML representation or trust the notebook. <br />On GitHub, the HTML representation is unable to render, please try loading this page with nbviewer.org.</b></div><div class=\"sk-container\" hidden><div class=\"sk-item\"><div class=\"sk-estimator sk-toggleable\"><input class=\"sk-toggleable__control sk-hidden--visually\" id=\"sk-estimator-id-1\" type=\"checkbox\" checked><label for=\"sk-estimator-id-1\" class=\"sk-toggleable__label sk-toggleable__label-arrow\">LogisticRegression</label><div class=\"sk-toggleable__content\"><pre>LogisticRegression(max_iter=300, random_state=922)</pre></div></div></div></div></div>"
      ],
      "text/plain": [
       "LogisticRegression(max_iter=300, random_state=922)"
      ]
     },
     "execution_count": 11,
     "metadata": {},
     "output_type": "execute_result"
    }
   ],
   "source": [
    "from sklearn.linear_model import LogisticRegression\n",
    "logreg = LogisticRegression(random_state = 922, max_iter =300)\n",
    "logreg.fit(x_train_final,y_train)"
   ]
  },
  {
   "cell_type": "code",
   "execution_count": 12,
   "metadata": {},
   "outputs": [],
   "source": [
    "from sklearn.metrics import accuracy_score #Para el cálculo de la accuracy\n",
    "from sklearn.metrics import roc_auc_score #\n",
    "from sklearn.metrics import confusion_matrix "
   ]
  },
  {
   "cell_type": "code",
   "execution_count": 13,
   "metadata": {},
   "outputs": [
    {
     "data": {
      "text/plain": [
       "0.9973684210526316"
      ]
     },
     "execution_count": 13,
     "metadata": {},
     "output_type": "execute_result"
    }
   ],
   "source": [
    "y_predict = logreg.predict(x_test_final)\n",
    "logreg_accuracy = accuracy_score(y_test,y_predict)\n",
    "logreg_accuracy"
   ]
  },
  {
   "cell_type": "code",
   "execution_count": 14,
   "metadata": {},
   "outputs": [
    {
     "data": {
      "text/plain": [
       "array([[9.98437169e-01, 1.56283069e-03],\n",
       "       [4.11664283e-03, 9.95883357e-01],\n",
       "       [9.97210344e-01, 2.78965589e-03],\n",
       "       ...,\n",
       "       [9.99599487e-01, 4.00512748e-04],\n",
       "       [9.98988513e-01, 1.01148675e-03],\n",
       "       [9.98505053e-01, 1.49494657e-03]])"
      ]
     },
     "execution_count": 14,
     "metadata": {},
     "output_type": "execute_result"
    }
   ],
   "source": [
    "logreg.predict_proba(x_test_final)"
   ]
  },
  {
   "cell_type": "code",
   "execution_count": 15,
   "metadata": {},
   "outputs": [
    {
     "data": {
      "text/plain": [
       "array([0, 1, 0, ..., 0, 0, 0], dtype=int64)"
      ]
     },
     "execution_count": 15,
     "metadata": {},
     "output_type": "execute_result"
    }
   ],
   "source": [
    "logreg.predict(x_test_final)"
   ]
  },
  {
   "cell_type": "code",
   "execution_count": 16,
   "metadata": {},
   "outputs": [
    {
     "data": {
      "text/plain": [
       "0.9982912540103221"
      ]
     },
     "execution_count": 16,
     "metadata": {},
     "output_type": "execute_result"
    }
   ],
   "source": [
    "logreg_AUC = roc_auc_score(y_test,logreg.predict_proba(x_test_final)[:,1])\n",
    "logreg_AUC"
   ]
  },
  {
   "cell_type": "code",
   "execution_count": 17,
   "metadata": {},
   "outputs": [
    {
     "data": {
      "text/html": [
       "<div>\n",
       "<style scoped>\n",
       "    .dataframe tbody tr th:only-of-type {\n",
       "        vertical-align: middle;\n",
       "    }\n",
       "\n",
       "    .dataframe tbody tr th {\n",
       "        vertical-align: top;\n",
       "    }\n",
       "\n",
       "    .dataframe thead th {\n",
       "        text-align: right;\n",
       "    }\n",
       "</style>\n",
       "<table border=\"1\" class=\"dataframe\">\n",
       "  <thead>\n",
       "    <tr style=\"text-align: right;\">\n",
       "      <th></th>\n",
       "      <th>No se va del Banco</th>\n",
       "      <th>Se va del Banco</th>\n",
       "    </tr>\n",
       "  </thead>\n",
       "  <tbody>\n",
       "    <tr>\n",
       "      <th>No se va del Banco</th>\n",
       "      <td>1495</td>\n",
       "      <td>3</td>\n",
       "    </tr>\n",
       "    <tr>\n",
       "      <th>Se va del Banco</th>\n",
       "      <td>2</td>\n",
       "      <td>400</td>\n",
       "    </tr>\n",
       "  </tbody>\n",
       "</table>\n",
       "</div>"
      ],
      "text/plain": [
       "                    No se va del Banco  Se va del Banco\n",
       "No se va del Banco                1495                3\n",
       "Se va del Banco                      2              400"
      ]
     },
     "execution_count": 17,
     "metadata": {},
     "output_type": "execute_result"
    }
   ],
   "source": [
    "matriz_Confusion = confusion_matrix(y_test,y_predict)\n",
    "matriz_Confusion = pd.DataFrame(matriz_Confusion,index=[\"No se va del Banco\",\"Se va del Banco\"],columns=[\"No se va del Banco\",\"Se va del Banco\"])\n",
    "matriz_Confusion"
   ]
  },
  {
   "cell_type": "code",
   "execution_count": 18,
   "metadata": {},
   "outputs": [
    {
     "data": {
      "text/plain": [
       "0.004975124378109453"
      ]
     },
     "execution_count": 18,
     "metadata": {},
     "output_type": "execute_result"
    }
   ],
   "source": [
    "tfn = matriz_Confusion.iloc[1,0]/(matriz_Confusion.iloc[1,0]+matriz_Confusion.iloc[1,1])\n",
    "tfn"
   ]
  },
  {
   "cell_type": "code",
   "execution_count": 19,
   "metadata": {},
   "outputs": [
    {
     "data": {
      "text/plain": [
       "0.0020026702269692926"
      ]
     },
     "execution_count": 19,
     "metadata": {},
     "output_type": "execute_result"
    }
   ],
   "source": [
    "tfp = matriz_Confusion.iloc[0,1]/(matriz_Confusion.iloc[0,1]+matriz_Confusion.iloc[0,0])\n",
    "tfp"
   ]
  },
  {
   "attachments": {},
   "cell_type": "markdown",
   "metadata": {},
   "source": [
    "Lo peor en mi opinion es la tasa de falsos negativos que el modelo predice que no se va y se va"
   ]
  },
  {
   "cell_type": "code",
   "execution_count": 20,
   "metadata": {},
   "outputs": [
    {
     "data": {
      "text/plain": [
       "array([-3.10781966e-01,  4.80507096e-01, -1.69576558e-01,  2.03681891e-02,\n",
       "       -2.02196174e-02, -1.03768687e-01, -8.46220197e-02,  4.42449794e-03,\n",
       "        1.84114781e-01,  9.60379179e-02, -1.26185507e-01, -6.41123859e-02,\n",
       "       -3.90466392e-02,  1.33455186e-01, -8.33273621e-02,  9.64292585e-01,\n",
       "       -1.61238878e-01, -7.75347772e-01,  5.57699994e-02, -6.37186087e-02,\n",
       "        6.38671804e-02,  3.36983947e-01, -3.36835375e-01, -5.84417220e+00,\n",
       "        5.84432077e+00, -7.05262972e-02,  4.47910667e-01, -2.85263933e-01,\n",
       "        1.60496188e-01, -2.52468052e-01, -5.17025162e-02, -2.97169771e-02,\n",
       "       -3.28936067e-01, -9.01860607e-02, -7.69447728e-02])"
      ]
     },
     "execution_count": 20,
     "metadata": {},
     "output_type": "execute_result"
    }
   ],
   "source": [
    "logreg.coef_[0]"
   ]
  },
  {
   "cell_type": "code",
   "execution_count": 21,
   "metadata": {},
   "outputs": [],
   "source": [
    "precisiones = dict()\n",
    "precisiones[\"RegresionLogistica\"]=[logreg_accuracy,logreg_AUC,tfn,tfp]"
   ]
  },
  {
   "cell_type": "code",
   "execution_count": 22,
   "metadata": {},
   "outputs": [
    {
     "data": {
      "text/plain": [
       "{'RegresionLogistica': [0.9973684210526316,\n",
       "  0.9982912540103221,\n",
       "  0.004975124378109453,\n",
       "  0.0020026702269692926]}"
      ]
     },
     "execution_count": 22,
     "metadata": {},
     "output_type": "execute_result"
    }
   ],
   "source": [
    "precisiones"
   ]
  },
  {
   "cell_type": "code",
   "execution_count": 23,
   "metadata": {},
   "outputs": [],
   "source": [
    "import pickle \n",
    "with open (\"./Modelos/Mejor_RegresionLogistica.pkl\",\"wb\") as f:\n",
    "    pickle.dump(logreg,f)"
   ]
  },
  {
   "attachments": {},
   "cell_type": "markdown",
   "metadata": {},
   "source": [
    "### Importamos el modelo"
   ]
  },
  {
   "cell_type": "code",
   "execution_count": 24,
   "metadata": {},
   "outputs": [],
   "source": [
    "with open (\"./Modelos/Mejor_RegresionLogistica.pkl\",\"rb\") as f:\n",
    "    modeloRegrisoLogistica=pickle.load(f)"
   ]
  },
  {
   "attachments": {},
   "cell_type": "markdown",
   "metadata": {},
   "source": [
    "### Cargamos los datos con los que vamos a comprobar"
   ]
  },
  {
   "cell_type": "code",
   "execution_count": 155,
   "metadata": {},
   "outputs": [],
   "source": [
    "dfDatos = pd.read_csv(\"./Data/datosParaComprobarModelo.csv\")"
   ]
  },
  {
   "cell_type": "code",
   "execution_count": 156,
   "metadata": {},
   "outputs": [
    {
     "data": {
      "text/html": [
       "<div>\n",
       "<style scoped>\n",
       "    .dataframe tbody tr th:only-of-type {\n",
       "        vertical-align: middle;\n",
       "    }\n",
       "\n",
       "    .dataframe tbody tr th {\n",
       "        vertical-align: top;\n",
       "    }\n",
       "\n",
       "    .dataframe thead th {\n",
       "        text-align: right;\n",
       "    }\n",
       "</style>\n",
       "<table border=\"1\" class=\"dataframe\">\n",
       "  <thead>\n",
       "    <tr style=\"text-align: right;\">\n",
       "      <th></th>\n",
       "      <th>CustomerId</th>\n",
       "      <th>Surname</th>\n",
       "      <th>CreditScore</th>\n",
       "      <th>Geography</th>\n",
       "      <th>Gender</th>\n",
       "      <th>Age</th>\n",
       "      <th>Tenure</th>\n",
       "      <th>Balance</th>\n",
       "      <th>NumOfProducts</th>\n",
       "      <th>HasCrCard</th>\n",
       "      <th>IsActiveMember</th>\n",
       "      <th>EstimatedSalary</th>\n",
       "      <th>Exited</th>\n",
       "      <th>Complain</th>\n",
       "      <th>Satisfaction Score</th>\n",
       "      <th>Card Type</th>\n",
       "      <th>Point Earned</th>\n",
       "    </tr>\n",
       "  </thead>\n",
       "  <tbody>\n",
       "    <tr>\n",
       "      <th>0</th>\n",
       "      <td>15765311</td>\n",
       "      <td>Zhirov</td>\n",
       "      <td>642</td>\n",
       "      <td>Spain</td>\n",
       "      <td>Male</td>\n",
       "      <td>34</td>\n",
       "      <td>8</td>\n",
       "      <td>0.00</td>\n",
       "      <td>1</td>\n",
       "      <td>1</td>\n",
       "      <td>0</td>\n",
       "      <td>72085.10</td>\n",
       "      <td>0</td>\n",
       "      <td>0</td>\n",
       "      <td>3</td>\n",
       "      <td>GOLD</td>\n",
       "      <td>323</td>\n",
       "    </tr>\n",
       "    <tr>\n",
       "      <th>1</th>\n",
       "      <td>15704466</td>\n",
       "      <td>Udokamma</td>\n",
       "      <td>692</td>\n",
       "      <td>France</td>\n",
       "      <td>Female</td>\n",
       "      <td>34</td>\n",
       "      <td>7</td>\n",
       "      <td>0.00</td>\n",
       "      <td>2</td>\n",
       "      <td>1</td>\n",
       "      <td>0</td>\n",
       "      <td>195074.62</td>\n",
       "      <td>0</td>\n",
       "      <td>0</td>\n",
       "      <td>1</td>\n",
       "      <td>DIAMOND</td>\n",
       "      <td>427</td>\n",
       "    </tr>\n",
       "    <tr>\n",
       "      <th>2</th>\n",
       "      <td>15573045</td>\n",
       "      <td>Earl</td>\n",
       "      <td>547</td>\n",
       "      <td>France</td>\n",
       "      <td>Male</td>\n",
       "      <td>62</td>\n",
       "      <td>10</td>\n",
       "      <td>127738.75</td>\n",
       "      <td>2</td>\n",
       "      <td>1</td>\n",
       "      <td>1</td>\n",
       "      <td>85153.00</td>\n",
       "      <td>0</td>\n",
       "      <td>0</td>\n",
       "      <td>4</td>\n",
       "      <td>GOLD</td>\n",
       "      <td>666</td>\n",
       "    </tr>\n",
       "    <tr>\n",
       "      <th>3</th>\n",
       "      <td>15596761</td>\n",
       "      <td>Hawdon</td>\n",
       "      <td>515</td>\n",
       "      <td>Germany</td>\n",
       "      <td>Male</td>\n",
       "      <td>60</td>\n",
       "      <td>9</td>\n",
       "      <td>113715.36</td>\n",
       "      <td>1</td>\n",
       "      <td>1</td>\n",
       "      <td>0</td>\n",
       "      <td>18424.24</td>\n",
       "      <td>1</td>\n",
       "      <td>1</td>\n",
       "      <td>1</td>\n",
       "      <td>GOLD</td>\n",
       "      <td>850</td>\n",
       "    </tr>\n",
       "    <tr>\n",
       "      <th>4</th>\n",
       "      <td>15588622</td>\n",
       "      <td>Marchesi</td>\n",
       "      <td>599</td>\n",
       "      <td>Germany</td>\n",
       "      <td>Male</td>\n",
       "      <td>25</td>\n",
       "      <td>7</td>\n",
       "      <td>108380.72</td>\n",
       "      <td>1</td>\n",
       "      <td>1</td>\n",
       "      <td>1</td>\n",
       "      <td>79005.95</td>\n",
       "      <td>0</td>\n",
       "      <td>0</td>\n",
       "      <td>1</td>\n",
       "      <td>SILVER</td>\n",
       "      <td>933</td>\n",
       "    </tr>\n",
       "    <tr>\n",
       "      <th>...</th>\n",
       "      <td>...</td>\n",
       "      <td>...</td>\n",
       "      <td>...</td>\n",
       "      <td>...</td>\n",
       "      <td>...</td>\n",
       "      <td>...</td>\n",
       "      <td>...</td>\n",
       "      <td>...</td>\n",
       "      <td>...</td>\n",
       "      <td>...</td>\n",
       "      <td>...</td>\n",
       "      <td>...</td>\n",
       "      <td>...</td>\n",
       "      <td>...</td>\n",
       "      <td>...</td>\n",
       "      <td>...</td>\n",
       "      <td>...</td>\n",
       "    </tr>\n",
       "    <tr>\n",
       "      <th>495</th>\n",
       "      <td>15784092</td>\n",
       "      <td>Henderson</td>\n",
       "      <td>732</td>\n",
       "      <td>France</td>\n",
       "      <td>Male</td>\n",
       "      <td>36</td>\n",
       "      <td>7</td>\n",
       "      <td>126195.81</td>\n",
       "      <td>1</td>\n",
       "      <td>1</td>\n",
       "      <td>1</td>\n",
       "      <td>133172.48</td>\n",
       "      <td>0</td>\n",
       "      <td>0</td>\n",
       "      <td>1</td>\n",
       "      <td>DIAMOND</td>\n",
       "      <td>549</td>\n",
       "    </tr>\n",
       "    <tr>\n",
       "      <th>496</th>\n",
       "      <td>15805112</td>\n",
       "      <td>Pokrovsky</td>\n",
       "      <td>578</td>\n",
       "      <td>France</td>\n",
       "      <td>Male</td>\n",
       "      <td>38</td>\n",
       "      <td>7</td>\n",
       "      <td>82259.29</td>\n",
       "      <td>1</td>\n",
       "      <td>1</td>\n",
       "      <td>0</td>\n",
       "      <td>8996.97</td>\n",
       "      <td>0</td>\n",
       "      <td>0</td>\n",
       "      <td>1</td>\n",
       "      <td>DIAMOND</td>\n",
       "      <td>325</td>\n",
       "    </tr>\n",
       "    <tr>\n",
       "      <th>497</th>\n",
       "      <td>15641366</td>\n",
       "      <td>Y?an</td>\n",
       "      <td>599</td>\n",
       "      <td>Germany</td>\n",
       "      <td>Male</td>\n",
       "      <td>61</td>\n",
       "      <td>1</td>\n",
       "      <td>124737.96</td>\n",
       "      <td>1</td>\n",
       "      <td>0</td>\n",
       "      <td>1</td>\n",
       "      <td>90389.61</td>\n",
       "      <td>1</td>\n",
       "      <td>1</td>\n",
       "      <td>3</td>\n",
       "      <td>PLATINUM</td>\n",
       "      <td>914</td>\n",
       "    </tr>\n",
       "    <tr>\n",
       "      <th>498</th>\n",
       "      <td>15672754</td>\n",
       "      <td>Burbidge</td>\n",
       "      <td>498</td>\n",
       "      <td>Germany</td>\n",
       "      <td>Male</td>\n",
       "      <td>42</td>\n",
       "      <td>3</td>\n",
       "      <td>152039.70</td>\n",
       "      <td>1</td>\n",
       "      <td>1</td>\n",
       "      <td>1</td>\n",
       "      <td>53445.17</td>\n",
       "      <td>1</td>\n",
       "      <td>1</td>\n",
       "      <td>3</td>\n",
       "      <td>GOLD</td>\n",
       "      <td>790</td>\n",
       "    </tr>\n",
       "    <tr>\n",
       "      <th>499</th>\n",
       "      <td>15649121</td>\n",
       "      <td>Pinto</td>\n",
       "      <td>665</td>\n",
       "      <td>France</td>\n",
       "      <td>Male</td>\n",
       "      <td>52</td>\n",
       "      <td>3</td>\n",
       "      <td>0.00</td>\n",
       "      <td>1</td>\n",
       "      <td>1</td>\n",
       "      <td>0</td>\n",
       "      <td>116137.01</td>\n",
       "      <td>1</td>\n",
       "      <td>1</td>\n",
       "      <td>1</td>\n",
       "      <td>GOLD</td>\n",
       "      <td>307</td>\n",
       "    </tr>\n",
       "  </tbody>\n",
       "</table>\n",
       "<p>500 rows × 17 columns</p>\n",
       "</div>"
      ],
      "text/plain": [
       "     CustomerId    Surname  CreditScore Geography  Gender  Age  Tenure  \\\n",
       "0      15765311     Zhirov          642     Spain    Male   34       8   \n",
       "1      15704466   Udokamma          692    France  Female   34       7   \n",
       "2      15573045       Earl          547    France    Male   62      10   \n",
       "3      15596761     Hawdon          515   Germany    Male   60       9   \n",
       "4      15588622   Marchesi          599   Germany    Male   25       7   \n",
       "..          ...        ...          ...       ...     ...  ...     ...   \n",
       "495    15784092  Henderson          732    France    Male   36       7   \n",
       "496    15805112  Pokrovsky          578    France    Male   38       7   \n",
       "497    15641366       Y?an          599   Germany    Male   61       1   \n",
       "498    15672754   Burbidge          498   Germany    Male   42       3   \n",
       "499    15649121      Pinto          665    France    Male   52       3   \n",
       "\n",
       "       Balance  NumOfProducts  HasCrCard  IsActiveMember  EstimatedSalary  \\\n",
       "0         0.00              1          1               0         72085.10   \n",
       "1         0.00              2          1               0        195074.62   \n",
       "2    127738.75              2          1               1         85153.00   \n",
       "3    113715.36              1          1               0         18424.24   \n",
       "4    108380.72              1          1               1         79005.95   \n",
       "..         ...            ...        ...             ...              ...   \n",
       "495  126195.81              1          1               1        133172.48   \n",
       "496   82259.29              1          1               0          8996.97   \n",
       "497  124737.96              1          0               1         90389.61   \n",
       "498  152039.70              1          1               1         53445.17   \n",
       "499       0.00              1          1               0        116137.01   \n",
       "\n",
       "     Exited  Complain  Satisfaction Score Card Type  Point Earned  \n",
       "0         0         0                   3      GOLD           323  \n",
       "1         0         0                   1   DIAMOND           427  \n",
       "2         0         0                   4      GOLD           666  \n",
       "3         1         1                   1      GOLD           850  \n",
       "4         0         0                   1    SILVER           933  \n",
       "..      ...       ...                 ...       ...           ...  \n",
       "495       0         0                   1   DIAMOND           549  \n",
       "496       0         0                   1   DIAMOND           325  \n",
       "497       1         1                   3  PLATINUM           914  \n",
       "498       1         1                   3      GOLD           790  \n",
       "499       1         1                   1      GOLD           307  \n",
       "\n",
       "[500 rows x 17 columns]"
      ]
     },
     "execution_count": 156,
     "metadata": {},
     "output_type": "execute_result"
    }
   ],
   "source": [
    "dfDatos"
   ]
  },
  {
   "cell_type": "code",
   "execution_count": 157,
   "metadata": {},
   "outputs": [],
   "source": [
    "dfFinal = dfDatos.copy()"
   ]
  },
  {
   "cell_type": "code",
   "execution_count": 158,
   "metadata": {},
   "outputs": [],
   "source": [
    "bins = [300,579,669,739,799,850]\n",
    "names = [\"Poor\",\"Fair\",\"Good\",\"Very Good\",\"Excellent\"]\n",
    "dfDatos[\"CreditScoreCategorizada\"]= pd.cut(dfDatos[\"CreditScore\"],bins,labels=names)"
   ]
  },
  {
   "cell_type": "code",
   "execution_count": 159,
   "metadata": {},
   "outputs": [
    {
     "data": {
      "text/plain": [
       "Index(['CustomerId', 'Surname', 'CreditScore', 'Geography', 'Gender', 'Age',\n",
       "       'Tenure', 'Balance', 'NumOfProducts', 'HasCrCard', 'IsActiveMember',\n",
       "       'EstimatedSalary', 'Exited', 'Complain', 'Satisfaction Score',\n",
       "       'Card Type', 'Point Earned', 'CreditScoreCategorizada'],\n",
       "      dtype='object')"
      ]
     },
     "execution_count": 159,
     "metadata": {},
     "output_type": "execute_result"
    }
   ],
   "source": [
    "dfDatos.columns"
   ]
  },
  {
   "cell_type": "code",
   "execution_count": 160,
   "metadata": {},
   "outputs": [],
   "source": [
    "bins = [17,25,35,45,65,dfDatos[\"Age\"].max()]\n",
    "names = [\"Jovenes\",\"Jovenes-Adultos\",\"Adultos\",\"Adultos-Mayores\",\"Mayores\"]\n",
    "dfDatos[\"AgeCategorizada\"]= pd.cut(dfDatos[\"Age\"],bins,labels=names)"
   ]
  },
  {
   "cell_type": "code",
   "execution_count": 161,
   "metadata": {},
   "outputs": [],
   "source": [
    "dfDatos.drop(columns=[\"CustomerId\",\"Surname\",\"CreditScore\",\"Age\"], inplace=True)\n"
   ]
  },
  {
   "cell_type": "code",
   "execution_count": 162,
   "metadata": {},
   "outputs": [
    {
     "data": {
      "text/plain": [
       "['Geography',\n",
       " 'Gender',\n",
       " 'Tenure',\n",
       " 'Balance',\n",
       " 'NumOfProducts',\n",
       " 'HasCrCard',\n",
       " 'IsActiveMember',\n",
       " 'EstimatedSalary',\n",
       " 'Complain',\n",
       " 'Satisfaction Score',\n",
       " 'Card Type',\n",
       " 'Point Earned',\n",
       " 'CreditScoreCategorizada',\n",
       " 'AgeCategorizada']"
      ]
     },
     "execution_count": 162,
     "metadata": {},
     "output_type": "execute_result"
    }
   ],
   "source": [
    "variablesx = list(dfDatos.columns)\n",
    "variablesx.remove(\"Exited\")\n",
    "variablesx\n"
   ]
  },
  {
   "cell_type": "code",
   "execution_count": 163,
   "metadata": {},
   "outputs": [
    {
     "data": {
      "text/plain": [
       "0      0\n",
       "1      0\n",
       "2      0\n",
       "3      1\n",
       "4      0\n",
       "      ..\n",
       "495    0\n",
       "496    0\n",
       "497    1\n",
       "498    1\n",
       "499    1\n",
       "Name: Exited, Length: 500, dtype: int64"
      ]
     },
     "execution_count": 163,
     "metadata": {},
     "output_type": "execute_result"
    }
   ],
   "source": [
    "x = dfDatos[variablesx]\n",
    "y = dfDatos[\"Exited\"]\n",
    "y\n"
   ]
  },
  {
   "cell_type": "code",
   "execution_count": 164,
   "metadata": {},
   "outputs": [],
   "source": [
    "with open (\"./Transformaciones/TransformacionOHEVariableComplain.pkl\",\"rb\") as f:\n",
    "    transformacionOHE=pickle.load(f)"
   ]
  },
  {
   "cell_type": "code",
   "execution_count": 165,
   "metadata": {},
   "outputs": [],
   "source": [
    "with open (\"./Transformaciones/TransformacionSCALERVariableComplain.pkl\",\"rb\") as f:\n",
    "    transformacionScaler=pickle.load(f)"
   ]
  },
  {
   "cell_type": "code",
   "execution_count": 166,
   "metadata": {},
   "outputs": [],
   "source": [
    "columns_to_encode = ['Geography','Gender','Card Type','CreditScoreCategorizada','AgeCategorizada','HasCrCard','IsActiveMember','Complain','Satisfaction Score']\n",
    "x_categoricas= transformacionOHE.transform(x[columns_to_encode].values)\n",
    "columns_to_escaler = [\"Balance\",\"EstimatedSalary\",\"Point Earned\",\"Tenure\",\"NumOfProducts\"]\n",
    "x_numericas= transformacionScaler.transform(x[columns_to_escaler].values)"
   ]
  },
  {
   "cell_type": "code",
   "execution_count": 167,
   "metadata": {},
   "outputs": [],
   "source": [
    "x = np.concatenate([x_categoricas,x_numericas],axis=1)\n",
    " "
   ]
  },
  {
   "cell_type": "code",
   "execution_count": 168,
   "metadata": {},
   "outputs": [
    {
     "data": {
      "text/plain": [
       "0.994"
      ]
     },
     "execution_count": 168,
     "metadata": {},
     "output_type": "execute_result"
    }
   ],
   "source": [
    "y_predict = modeloRegrisoLogistica.predict(x)\n",
    "logreg_accuracy = accuracy_score(y,y_predict)\n",
    "logreg_accuracy"
   ]
  },
  {
   "cell_type": "code",
   "execution_count": 171,
   "metadata": {},
   "outputs": [],
   "source": [
    "dfFinal[\"Prediccion\"]= logreg.predict(x)"
   ]
  },
  {
   "cell_type": "code",
   "execution_count": 172,
   "metadata": {},
   "outputs": [],
   "source": [
    "dfFinal[\"Probabilidad de irse del banco\"] = logreg.predict_proba(x)[:,1]"
   ]
  },
  {
   "cell_type": "code",
   "execution_count": 174,
   "metadata": {},
   "outputs": [],
   "source": [
    "dfFinal[\"Prediccion Sin Numeros\"]=dfFinal[\"Prediccion\"].apply(lambda x: \"Se queda del banco\" if 0 else \"Se va del banco\")"
   ]
  },
  {
   "cell_type": "code",
   "execution_count": 178,
   "metadata": {},
   "outputs": [],
   "source": [
    "dfFinal[\"Probabilidad de irse del banco\"]= dfFinal[\"Probabilidad de irse del banco\"].apply(lambda x: str(round((float('{:f}'.format(x))*100),3))+\"%\")"
   ]
  },
  {
   "cell_type": "code",
   "execution_count": 179,
   "metadata": {},
   "outputs": [
    {
     "data": {
      "text/html": [
       "<div>\n",
       "<style scoped>\n",
       "    .dataframe tbody tr th:only-of-type {\n",
       "        vertical-align: middle;\n",
       "    }\n",
       "\n",
       "    .dataframe tbody tr th {\n",
       "        vertical-align: top;\n",
       "    }\n",
       "\n",
       "    .dataframe thead th {\n",
       "        text-align: right;\n",
       "    }\n",
       "</style>\n",
       "<table border=\"1\" class=\"dataframe\">\n",
       "  <thead>\n",
       "    <tr style=\"text-align: right;\">\n",
       "      <th></th>\n",
       "      <th>CustomerId</th>\n",
       "      <th>Surname</th>\n",
       "      <th>CreditScore</th>\n",
       "      <th>Geography</th>\n",
       "      <th>Gender</th>\n",
       "      <th>Age</th>\n",
       "      <th>Tenure</th>\n",
       "      <th>Balance</th>\n",
       "      <th>NumOfProducts</th>\n",
       "      <th>HasCrCard</th>\n",
       "      <th>IsActiveMember</th>\n",
       "      <th>EstimatedSalary</th>\n",
       "      <th>Exited</th>\n",
       "      <th>Complain</th>\n",
       "      <th>Satisfaction Score</th>\n",
       "      <th>Card Type</th>\n",
       "      <th>Point Earned</th>\n",
       "      <th>Prediccion</th>\n",
       "      <th>Probabilidad de irse del banco</th>\n",
       "      <th>Prediccion Sin Numeros</th>\n",
       "    </tr>\n",
       "  </thead>\n",
       "  <tbody>\n",
       "    <tr>\n",
       "      <th>0</th>\n",
       "      <td>15765311</td>\n",
       "      <td>Zhirov</td>\n",
       "      <td>642</td>\n",
       "      <td>Spain</td>\n",
       "      <td>Male</td>\n",
       "      <td>34</td>\n",
       "      <td>8</td>\n",
       "      <td>0.00</td>\n",
       "      <td>1</td>\n",
       "      <td>1</td>\n",
       "      <td>0</td>\n",
       "      <td>72085.10</td>\n",
       "      <td>0</td>\n",
       "      <td>0</td>\n",
       "      <td>3</td>\n",
       "      <td>GOLD</td>\n",
       "      <td>323</td>\n",
       "      <td>0</td>\n",
       "      <td>0.067%</td>\n",
       "      <td>Se va del banco</td>\n",
       "    </tr>\n",
       "    <tr>\n",
       "      <th>1</th>\n",
       "      <td>15704466</td>\n",
       "      <td>Udokamma</td>\n",
       "      <td>692</td>\n",
       "      <td>France</td>\n",
       "      <td>Female</td>\n",
       "      <td>34</td>\n",
       "      <td>7</td>\n",
       "      <td>0.00</td>\n",
       "      <td>2</td>\n",
       "      <td>1</td>\n",
       "      <td>0</td>\n",
       "      <td>195074.62</td>\n",
       "      <td>0</td>\n",
       "      <td>0</td>\n",
       "      <td>1</td>\n",
       "      <td>DIAMOND</td>\n",
       "      <td>427</td>\n",
       "      <td>0</td>\n",
       "      <td>0.057%</td>\n",
       "      <td>Se va del banco</td>\n",
       "    </tr>\n",
       "    <tr>\n",
       "      <th>2</th>\n",
       "      <td>15573045</td>\n",
       "      <td>Earl</td>\n",
       "      <td>547</td>\n",
       "      <td>France</td>\n",
       "      <td>Male</td>\n",
       "      <td>62</td>\n",
       "      <td>10</td>\n",
       "      <td>127738.75</td>\n",
       "      <td>2</td>\n",
       "      <td>1</td>\n",
       "      <td>1</td>\n",
       "      <td>85153.00</td>\n",
       "      <td>0</td>\n",
       "      <td>0</td>\n",
       "      <td>4</td>\n",
       "      <td>GOLD</td>\n",
       "      <td>666</td>\n",
       "      <td>0</td>\n",
       "      <td>0.127%</td>\n",
       "      <td>Se va del banco</td>\n",
       "    </tr>\n",
       "    <tr>\n",
       "      <th>3</th>\n",
       "      <td>15596761</td>\n",
       "      <td>Hawdon</td>\n",
       "      <td>515</td>\n",
       "      <td>Germany</td>\n",
       "      <td>Male</td>\n",
       "      <td>60</td>\n",
       "      <td>9</td>\n",
       "      <td>113715.36</td>\n",
       "      <td>1</td>\n",
       "      <td>1</td>\n",
       "      <td>0</td>\n",
       "      <td>18424.24</td>\n",
       "      <td>1</td>\n",
       "      <td>1</td>\n",
       "      <td>1</td>\n",
       "      <td>GOLD</td>\n",
       "      <td>850</td>\n",
       "      <td>1</td>\n",
       "      <td>99.797%</td>\n",
       "      <td>Se va del banco</td>\n",
       "    </tr>\n",
       "    <tr>\n",
       "      <th>4</th>\n",
       "      <td>15588622</td>\n",
       "      <td>Marchesi</td>\n",
       "      <td>599</td>\n",
       "      <td>Germany</td>\n",
       "      <td>Male</td>\n",
       "      <td>25</td>\n",
       "      <td>7</td>\n",
       "      <td>108380.72</td>\n",
       "      <td>1</td>\n",
       "      <td>1</td>\n",
       "      <td>1</td>\n",
       "      <td>79005.95</td>\n",
       "      <td>0</td>\n",
       "      <td>0</td>\n",
       "      <td>1</td>\n",
       "      <td>SILVER</td>\n",
       "      <td>933</td>\n",
       "      <td>0</td>\n",
       "      <td>0.075%</td>\n",
       "      <td>Se va del banco</td>\n",
       "    </tr>\n",
       "    <tr>\n",
       "      <th>...</th>\n",
       "      <td>...</td>\n",
       "      <td>...</td>\n",
       "      <td>...</td>\n",
       "      <td>...</td>\n",
       "      <td>...</td>\n",
       "      <td>...</td>\n",
       "      <td>...</td>\n",
       "      <td>...</td>\n",
       "      <td>...</td>\n",
       "      <td>...</td>\n",
       "      <td>...</td>\n",
       "      <td>...</td>\n",
       "      <td>...</td>\n",
       "      <td>...</td>\n",
       "      <td>...</td>\n",
       "      <td>...</td>\n",
       "      <td>...</td>\n",
       "      <td>...</td>\n",
       "      <td>...</td>\n",
       "      <td>...</td>\n",
       "    </tr>\n",
       "    <tr>\n",
       "      <th>495</th>\n",
       "      <td>15784092</td>\n",
       "      <td>Henderson</td>\n",
       "      <td>732</td>\n",
       "      <td>France</td>\n",
       "      <td>Male</td>\n",
       "      <td>36</td>\n",
       "      <td>7</td>\n",
       "      <td>126195.81</td>\n",
       "      <td>1</td>\n",
       "      <td>1</td>\n",
       "      <td>1</td>\n",
       "      <td>133172.48</td>\n",
       "      <td>0</td>\n",
       "      <td>0</td>\n",
       "      <td>1</td>\n",
       "      <td>DIAMOND</td>\n",
       "      <td>549</td>\n",
       "      <td>0</td>\n",
       "      <td>0.049%</td>\n",
       "      <td>Se va del banco</td>\n",
       "    </tr>\n",
       "    <tr>\n",
       "      <th>496</th>\n",
       "      <td>15805112</td>\n",
       "      <td>Pokrovsky</td>\n",
       "      <td>578</td>\n",
       "      <td>France</td>\n",
       "      <td>Male</td>\n",
       "      <td>38</td>\n",
       "      <td>7</td>\n",
       "      <td>82259.29</td>\n",
       "      <td>1</td>\n",
       "      <td>1</td>\n",
       "      <td>0</td>\n",
       "      <td>8996.97</td>\n",
       "      <td>0</td>\n",
       "      <td>0</td>\n",
       "      <td>1</td>\n",
       "      <td>DIAMOND</td>\n",
       "      <td>325</td>\n",
       "      <td>0</td>\n",
       "      <td>0.152%</td>\n",
       "      <td>Se va del banco</td>\n",
       "    </tr>\n",
       "    <tr>\n",
       "      <th>497</th>\n",
       "      <td>15641366</td>\n",
       "      <td>Y?an</td>\n",
       "      <td>599</td>\n",
       "      <td>Germany</td>\n",
       "      <td>Male</td>\n",
       "      <td>61</td>\n",
       "      <td>1</td>\n",
       "      <td>124737.96</td>\n",
       "      <td>1</td>\n",
       "      <td>0</td>\n",
       "      <td>1</td>\n",
       "      <td>90389.61</td>\n",
       "      <td>1</td>\n",
       "      <td>1</td>\n",
       "      <td>3</td>\n",
       "      <td>PLATINUM</td>\n",
       "      <td>914</td>\n",
       "      <td>1</td>\n",
       "      <td>99.499%</td>\n",
       "      <td>Se va del banco</td>\n",
       "    </tr>\n",
       "    <tr>\n",
       "      <th>498</th>\n",
       "      <td>15672754</td>\n",
       "      <td>Burbidge</td>\n",
       "      <td>498</td>\n",
       "      <td>Germany</td>\n",
       "      <td>Male</td>\n",
       "      <td>42</td>\n",
       "      <td>3</td>\n",
       "      <td>152039.70</td>\n",
       "      <td>1</td>\n",
       "      <td>1</td>\n",
       "      <td>1</td>\n",
       "      <td>53445.17</td>\n",
       "      <td>1</td>\n",
       "      <td>1</td>\n",
       "      <td>3</td>\n",
       "      <td>GOLD</td>\n",
       "      <td>790</td>\n",
       "      <td>1</td>\n",
       "      <td>98.885%</td>\n",
       "      <td>Se va del banco</td>\n",
       "    </tr>\n",
       "    <tr>\n",
       "      <th>499</th>\n",
       "      <td>15649121</td>\n",
       "      <td>Pinto</td>\n",
       "      <td>665</td>\n",
       "      <td>France</td>\n",
       "      <td>Male</td>\n",
       "      <td>52</td>\n",
       "      <td>3</td>\n",
       "      <td>0.00</td>\n",
       "      <td>1</td>\n",
       "      <td>1</td>\n",
       "      <td>0</td>\n",
       "      <td>116137.01</td>\n",
       "      <td>1</td>\n",
       "      <td>1</td>\n",
       "      <td>1</td>\n",
       "      <td>GOLD</td>\n",
       "      <td>307</td>\n",
       "      <td>1</td>\n",
       "      <td>99.825%</td>\n",
       "      <td>Se va del banco</td>\n",
       "    </tr>\n",
       "  </tbody>\n",
       "</table>\n",
       "<p>500 rows × 20 columns</p>\n",
       "</div>"
      ],
      "text/plain": [
       "     CustomerId    Surname  CreditScore Geography  Gender  Age  Tenure  \\\n",
       "0      15765311     Zhirov          642     Spain    Male   34       8   \n",
       "1      15704466   Udokamma          692    France  Female   34       7   \n",
       "2      15573045       Earl          547    France    Male   62      10   \n",
       "3      15596761     Hawdon          515   Germany    Male   60       9   \n",
       "4      15588622   Marchesi          599   Germany    Male   25       7   \n",
       "..          ...        ...          ...       ...     ...  ...     ...   \n",
       "495    15784092  Henderson          732    France    Male   36       7   \n",
       "496    15805112  Pokrovsky          578    France    Male   38       7   \n",
       "497    15641366       Y?an          599   Germany    Male   61       1   \n",
       "498    15672754   Burbidge          498   Germany    Male   42       3   \n",
       "499    15649121      Pinto          665    France    Male   52       3   \n",
       "\n",
       "       Balance  NumOfProducts  HasCrCard  IsActiveMember  EstimatedSalary  \\\n",
       "0         0.00              1          1               0         72085.10   \n",
       "1         0.00              2          1               0        195074.62   \n",
       "2    127738.75              2          1               1         85153.00   \n",
       "3    113715.36              1          1               0         18424.24   \n",
       "4    108380.72              1          1               1         79005.95   \n",
       "..         ...            ...        ...             ...              ...   \n",
       "495  126195.81              1          1               1        133172.48   \n",
       "496   82259.29              1          1               0          8996.97   \n",
       "497  124737.96              1          0               1         90389.61   \n",
       "498  152039.70              1          1               1         53445.17   \n",
       "499       0.00              1          1               0        116137.01   \n",
       "\n",
       "     Exited  Complain  Satisfaction Score Card Type  Point Earned  Prediccion  \\\n",
       "0         0         0                   3      GOLD           323           0   \n",
       "1         0         0                   1   DIAMOND           427           0   \n",
       "2         0         0                   4      GOLD           666           0   \n",
       "3         1         1                   1      GOLD           850           1   \n",
       "4         0         0                   1    SILVER           933           0   \n",
       "..      ...       ...                 ...       ...           ...         ...   \n",
       "495       0         0                   1   DIAMOND           549           0   \n",
       "496       0         0                   1   DIAMOND           325           0   \n",
       "497       1         1                   3  PLATINUM           914           1   \n",
       "498       1         1                   3      GOLD           790           1   \n",
       "499       1         1                   1      GOLD           307           1   \n",
       "\n",
       "    Probabilidad de irse del banco Prediccion Sin Numeros  \n",
       "0                           0.067%        Se va del banco  \n",
       "1                           0.057%        Se va del banco  \n",
       "2                           0.127%        Se va del banco  \n",
       "3                          99.797%        Se va del banco  \n",
       "4                           0.075%        Se va del banco  \n",
       "..                             ...                    ...  \n",
       "495                         0.049%        Se va del banco  \n",
       "496                         0.152%        Se va del banco  \n",
       "497                        99.499%        Se va del banco  \n",
       "498                        98.885%        Se va del banco  \n",
       "499                        99.825%        Se va del banco  \n",
       "\n",
       "[500 rows x 20 columns]"
      ]
     },
     "execution_count": 179,
     "metadata": {},
     "output_type": "execute_result"
    }
   ],
   "source": [
    "dfFinal"
   ]
  },
  {
   "cell_type": "code",
   "execution_count": null,
   "metadata": {},
   "outputs": [],
   "source": []
  },
  {
   "cell_type": "code",
   "execution_count": null,
   "metadata": {},
   "outputs": [],
   "source": []
  },
  {
   "cell_type": "code",
   "execution_count": null,
   "metadata": {},
   "outputs": [],
   "source": []
  },
  {
   "cell_type": "code",
   "execution_count": null,
   "metadata": {},
   "outputs": [],
   "source": []
  },
  {
   "attachments": {},
   "cell_type": "markdown",
   "metadata": {},
   "source": [
    "### El class_weight balanced no mejora el modelo por lo que no lo vamos a utlizar"
   ]
  },
  {
   "cell_type": "code",
   "execution_count": 39,
   "metadata": {},
   "outputs": [
    {
     "data": {
      "text/plain": [
       "{'RegresionLogistica': [0.9973684210526316,\n",
       "  0.9982846116546772,\n",
       "  0.004975124378109453,\n",
       "  0.0020026702269692926]}"
      ]
     },
     "execution_count": 39,
     "metadata": {},
     "output_type": "execute_result"
    }
   ],
   "source": [
    "precisiones"
   ]
  },
  {
   "attachments": {},
   "cell_type": "markdown",
   "metadata": {},
   "source": [
    "## Arbol de decision "
   ]
  },
  {
   "cell_type": "code",
   "execution_count": 40,
   "metadata": {},
   "outputs": [
    {
     "data": {
      "image/png": "[encoded data removed]",
      "text/plain": [
       "<Figure size 640x480 with 1 Axes>"
      ]
     },
     "metadata": {},
     "output_type": "display_data"
    }
   ],
   "source": [
    "from sklearn.tree import DecisionTreeClassifier\n",
    "\n",
    "train_prec =  []\n",
    "test_prec = []\n",
    "max_depth_list = list(range(2, 26))\n",
    "for profundidad in max_depth_list:\n",
    "    modelo = DecisionTreeClassifier(max_depth = profundidad, random_state=922)\n",
    "    modelo.fit(x_train_final, y_train)\n",
    "    train_prec.append(accuracy_score(y_train, modelo.predict(x_train_final)))\n",
    "    test_prec.append(accuracy_score(y_test, modelo.predict(x_test_final)))\n",
    "    \n",
    "plt.plot(max_depth_list, train_prec, color='r', label='Entrenamiento')\n",
    "plt.plot(max_depth_list, test_prec, color='b', label='Evaluación')\n",
    "plt.title('Gráfico de ajuste árbol de decisión')\n",
    "plt.legend()\n",
    "plt.ylabel('Accuracy')\n",
    "plt.xlabel('Profundidad del árbol')\n",
    "plt.xticks(range(2,26))\n",
    "plt.show()"
   ]
  },
  {
   "attachments": {},
   "cell_type": "markdown",
   "metadata": {},
   "source": [
    "Nos vamos a quedar con una profundidad de 3 arboles "
   ]
  },
  {
   "cell_type": "code",
   "execution_count": 41,
   "metadata": {},
   "outputs": [
    {
     "data": {
      "image/png": "[encoded data removed]",
      "text/plain": [
       "<Figure size 640x480 with 1 Axes>"
      ]
     },
     "metadata": {},
     "output_type": "display_data"
    }
   ],
   "source": [
    "from sklearn.tree import DecisionTreeClassifier\n",
    "\n",
    "train_prec =  []\n",
    "test_prec = []\n",
    "min_samples_list = list(range(1, 21))\n",
    "\n",
    "for min_sample in min_samples_list:\n",
    "    modelo = DecisionTreeClassifier(max_depth = 3, min_samples_leaf = min_sample, min_samples_split = 2*min_sample, random_state = 922)\n",
    "    modelo.fit(x_train_final, y_train)\n",
    "    train_prec.append(accuracy_score(y_train, modelo.predict(x_train_final)))\n",
    "    test_prec.append(accuracy_score(y_test, modelo.predict(x_test_final)))\n",
    "\n",
    "plt.plot(min_samples_list, train_prec, color='r', label='Entrenamiento')\n",
    "plt.plot(min_samples_list, test_prec, color='b', label='Evaluación')\n",
    "plt.title('Gráfico de ajuste árbol de decisión')\n",
    "plt.legend()\n",
    "plt.ylabel('Accuracy')\n",
    "plt.xlabel('Min_samples_leaf (1/2 Min_samples_split)')\n",
    "plt.xticks(range(1,21))\n",
    "plt.show()"
   ]
  },
  {
   "attachments": {},
   "cell_type": "markdown",
   "metadata": {},
   "source": [
    "Nos quedamos con 10 de min_sample_leaf"
   ]
  },
  {
   "cell_type": "code",
   "execution_count": 42,
   "metadata": {},
   "outputs": [
    {
     "data": {
      "text/html": [
       "<style>#sk-container-id-3 {color: black;background-color: white;}#sk-container-id-3 pre{padding: 0;}#sk-container-id-3 div.sk-toggleable {background-color: white;}#sk-container-id-3 label.sk-toggleable__label {cursor: pointer;display: block;width: 100%;margin-bottom: 0;padding: 0.3em;box-sizing: border-box;text-align: center;}#sk-container-id-3 label.sk-toggleable__label-arrow:before {content: \"▸\";float: left;margin-right: 0.25em;color: #696969;}#sk-container-id-3 label.sk-toggleable__label-arrow:hover:before {color: black;}#sk-container-id-3 div.sk-estimator:hover label.sk-toggleable__label-arrow:before {color: black;}#sk-container-id-3 div.sk-toggleable__content {max-height: 0;max-width: 0;overflow: hidden;text-align: left;background-color: #f0f8ff;}#sk-container-id-3 div.sk-toggleable__content pre {margin: 0.2em;color: black;border-radius: 0.25em;background-color: #f0f8ff;}#sk-container-id-3 input.sk-toggleable__control:checked~div.sk-toggleable__content {max-height: 200px;max-width: 100%;overflow: auto;}#sk-container-id-3 input.sk-toggleable__control:checked~label.sk-toggleable__label-arrow:before {content: \"▾\";}#sk-container-id-3 div.sk-estimator input.sk-toggleable__control:checked~label.sk-toggleable__label {background-color: #d4ebff;}#sk-container-id-3 div.sk-label input.sk-toggleable__control:checked~label.sk-toggleable__label {background-color: #d4ebff;}#sk-container-id-3 input.sk-hidden--visually {border: 0;clip: rect(1px 1px 1px 1px);clip: rect(1px, 1px, 1px, 1px);height: 1px;margin: -1px;overflow: hidden;padding: 0;position: absolute;width: 1px;}#sk-container-id-3 div.sk-estimator {font-family: monospace;background-color: #f0f8ff;border: 1px dotted black;border-radius: 0.25em;box-sizing: border-box;margin-bottom: 0.5em;}#sk-container-id-3 div.sk-estimator:hover {background-color: #d4ebff;}#sk-container-id-3 div.sk-parallel-item::after {content: \"\";width: 100%;border-bottom: 1px solid gray;flex-grow: 1;}#sk-container-id-3 div.sk-label:hover label.sk-toggleable__label {background-color: #d4ebff;}#sk-container-id-3 div.sk-serial::before {content: \"\";position: absolute;border-left: 1px solid gray;box-sizing: border-box;top: 0;bottom: 0;left: 50%;z-index: 0;}#sk-container-id-3 div.sk-serial {display: flex;flex-direction: column;align-items: center;background-color: white;padding-right: 0.2em;padding-left: 0.2em;position: relative;}#sk-container-id-3 div.sk-item {position: relative;z-index: 1;}#sk-container-id-3 div.sk-parallel {display: flex;align-items: stretch;justify-content: center;background-color: white;position: relative;}#sk-container-id-3 div.sk-item::before, #sk-container-id-3 div.sk-parallel-item::before {content: \"\";position: absolute;border-left: 1px solid gray;box-sizing: border-box;top: 0;bottom: 0;left: 50%;z-index: -1;}#sk-container-id-3 div.sk-parallel-item {display: flex;flex-direction: column;z-index: 1;position: relative;background-color: white;}#sk-container-id-3 div.sk-parallel-item:first-child::after {align-self: flex-end;width: 50%;}#sk-container-id-3 div.sk-parallel-item:last-child::after {align-self: flex-start;width: 50%;}#sk-container-id-3 div.sk-parallel-item:only-child::after {width: 0;}#sk-container-id-3 div.sk-dashed-wrapped {border: 1px dashed gray;margin: 0 0.4em 0.5em 0.4em;box-sizing: border-box;padding-bottom: 0.4em;background-color: white;}#sk-container-id-3 div.sk-label label {font-family: monospace;font-weight: bold;display: inline-block;line-height: 1.2em;}#sk-container-id-3 div.sk-label-container {text-align: center;}#sk-container-id-3 div.sk-container {/* jupyter's `normalize.less` sets `[hidden] { display: none; }` but bootstrap.min.css set `[hidden] { display: none !important; }` so we also need the `!important` here to be able to override the default hidden behavior on the sphinx rendered scikit-learn.org. See: https://github.com/scikit-learn/scikit-learn/issues/21755 */display: inline-block !important;position: relative;}#sk-container-id-3 div.sk-text-repr-fallback {display: none;}</style><div id=\"sk-container-id-3\" class=\"sk-top-container\"><div class=\"sk-text-repr-fallback\"><pre>DecisionTreeClassifier(max_depth=3, min_samples_leaf=10, min_samples_split=20,\n",
       "                       random_state=922)</pre><b>In a Jupyter environment, please rerun this cell to show the HTML representation or trust the notebook. <br />On GitHub, the HTML representation is unable to render, please try loading this page with nbviewer.org.</b></div><div class=\"sk-container\" hidden><div class=\"sk-item\"><div class=\"sk-estimator sk-toggleable\"><input class=\"sk-toggleable__control sk-hidden--visually\" id=\"sk-estimator-id-3\" type=\"checkbox\" checked><label for=\"sk-estimator-id-3\" class=\"sk-toggleable__label sk-toggleable__label-arrow\">DecisionTreeClassifier</label><div class=\"sk-toggleable__content\"><pre>DecisionTreeClassifier(max_depth=3, min_samples_leaf=10, min_samples_split=20,\n",
       "                       random_state=922)</pre></div></div></div></div></div>"
      ],
      "text/plain": [
       "DecisionTreeClassifier(max_depth=3, min_samples_leaf=10, min_samples_split=20,\n",
       "                       random_state=922)"
      ]
     },
     "execution_count": 42,
     "metadata": {},
     "output_type": "execute_result"
    }
   ],
   "source": [
    "treeModel = DecisionTreeClassifier(max_depth=3,  min_samples_leaf = 10, min_samples_split = 10*2, random_state=922)\n",
    "treeModel.fit(x_train_final, y_train)"
   ]
  },
  {
   "cell_type": "code",
   "execution_count": 43,
   "metadata": {},
   "outputs": [
    {
     "data": {
      "image/png": "[encoded data removed]",
      "text/plain": [
       "<Figure size 2000x1000 with 1 Axes>"
      ]
     },
     "metadata": {},
     "output_type": "display_data"
    }
   ],
   "source": [
    "from sklearn.tree import plot_tree\n",
    "\n",
    "plt.figure(figsize=(20,10))\n",
    "plot_tree(treeModel, filled=True)\n",
    "plt.show()"
   ]
  },
  {
   "cell_type": "code",
   "execution_count": 45,
   "metadata": {},
   "outputs": [
    {
     "data": {
      "text/plain": [
       "[0.0,\n",
       " 0.0,\n",
       " 0.0,\n",
       " 0.0,\n",
       " 0.0,\n",
       " 0.0,\n",
       " 0.0,\n",
       " 0.0,\n",
       " 0.0,\n",
       " 0.0,\n",
       " 5.102331503182058e-06,\n",
       " 0.0,\n",
       " 0.0,\n",
       " 0.0,\n",
       " 0.0,\n",
       " 0.0,\n",
       " 0.0,\n",
       " 2.2013113020081264e-05,\n",
       " 0.0,\n",
       " 0.0,\n",
       " 0.0,\n",
       " 0.0,\n",
       " 0.0,\n",
       " 0.0,\n",
       " 0.9998111908358758,\n",
       " 0.0,\n",
       " 0.0,\n",
       " 0.0,\n",
       " 0.0,\n",
       " 0.0,\n",
       " 0.0,\n",
       " 9.321062741365965e-05,\n",
       " 0.0,\n",
       " 6.848309218712978e-05,\n",
       " 0.0,\n",
       " 0.0]"
      ]
     },
     "execution_count": 45,
     "metadata": {},
     "output_type": "execute_result"
    }
   ],
   "source": [
    "treeModel.feature_importances_.tolist()"
   ]
  },
  {
   "attachments": {},
   "cell_type": "markdown",
   "metadata": {},
   "source": [
    "#### Podemos ver como la variable de complain tiene mucha importancia osea en funcion de eso se pude saber a ciencia casi perfecta si se va a quedar o irse\n",
    "\n",
    "\n",
    "\n",
    "Vamos a seguir con esa variable en el modelo pero en un futuro la podemos quitar"
   ]
  },
  {
   "cell_type": "code",
   "execution_count": 47,
   "metadata": {},
   "outputs": [
    {
     "data": {
      "text/plain": [
       "0.9973684210526316"
      ]
     },
     "execution_count": 47,
     "metadata": {},
     "output_type": "execute_result"
    }
   ],
   "source": [
    "y_predict = treeModel.predict(x_test_final)\n",
    "accuracy=accuracy_score(y_test,y_predict)\n",
    "accuracy"
   ]
  },
  {
   "cell_type": "code",
   "execution_count": 48,
   "metadata": {},
   "outputs": [
    {
     "data": {
      "text/plain": [
       "0.996889716969226"
      ]
     },
     "execution_count": 48,
     "metadata": {},
     "output_type": "execute_result"
    }
   ],
   "source": [
    "y_predict_proba = treeModel.predict_proba(x_test_final) #Nos guardamos las probabilidades de pertenencia a cada clase\n",
    "y_predict_proba = y_predict_proba[:, 1] #Nos guardamos la probabilidad de pertenencia solo a la clase positiva\n",
    "AUC = roc_auc_score(y_test, y_predict_proba)\n",
    "AUC"
   ]
  },
  {
   "cell_type": "code",
   "execution_count": 49,
   "metadata": {},
   "outputs": [
    {
     "data": {
      "text/html": [
       "<div>\n",
       "<style scoped>\n",
       "    .dataframe tbody tr th:only-of-type {\n",
       "        vertical-align: middle;\n",
       "    }\n",
       "\n",
       "    .dataframe tbody tr th {\n",
       "        vertical-align: top;\n",
       "    }\n",
       "\n",
       "    .dataframe thead th {\n",
       "        text-align: right;\n",
       "    }\n",
       "</style>\n",
       "<table border=\"1\" class=\"dataframe\">\n",
       "  <thead>\n",
       "    <tr style=\"text-align: right;\">\n",
       "      <th></th>\n",
       "      <th>No se va del Banco</th>\n",
       "      <th>Se va del Banco</th>\n",
       "    </tr>\n",
       "  </thead>\n",
       "  <tbody>\n",
       "    <tr>\n",
       "      <th>No se va del Banco</th>\n",
       "      <td>1495</td>\n",
       "      <td>3</td>\n",
       "    </tr>\n",
       "    <tr>\n",
       "      <th>Se va del Banco</th>\n",
       "      <td>2</td>\n",
       "      <td>400</td>\n",
       "    </tr>\n",
       "  </tbody>\n",
       "</table>\n",
       "</div>"
      ],
      "text/plain": [
       "                    No se va del Banco  Se va del Banco\n",
       "No se va del Banco                1495                3\n",
       "Se va del Banco                      2              400"
      ]
     },
     "execution_count": 49,
     "metadata": {},
     "output_type": "execute_result"
    }
   ],
   "source": [
    "matriz_Confusion = confusion_matrix(y_test,y_predict)\n",
    "matriz_Confusion = pd.DataFrame(matriz_Confusion,index=[\"No se va del Banco\",\"Se va del Banco\"],columns=[\"No se va del Banco\",\"Se va del Banco\"])\n",
    "matriz_Confusion"
   ]
  },
  {
   "cell_type": "code",
   "execution_count": 50,
   "metadata": {},
   "outputs": [
    {
     "data": {
      "text/plain": [
       "0.004975124378109453"
      ]
     },
     "execution_count": 50,
     "metadata": {},
     "output_type": "execute_result"
    }
   ],
   "source": [
    "tfn = matriz_Confusion.iloc[1,0]/(matriz_Confusion.iloc[1,0]+matriz_Confusion.iloc[1,1])\n",
    "tfn"
   ]
  },
  {
   "cell_type": "code",
   "execution_count": 51,
   "metadata": {},
   "outputs": [
    {
     "data": {
      "text/plain": [
       "0.0020026702269692926"
      ]
     },
     "execution_count": 51,
     "metadata": {},
     "output_type": "execute_result"
    }
   ],
   "source": [
    "tfp = matriz_Confusion.iloc[0,1]/(matriz_Confusion.iloc[0,1]+matriz_Confusion.iloc[0,0])\n",
    "tfp"
   ]
  },
  {
   "cell_type": "code",
   "execution_count": null,
   "metadata": {},
   "outputs": [],
   "source": []
  }
 ],
 "metadata": {
  "kernelspec": {
   "display_name": "Python 3",
   "language": "python",
   "name": "python3"
  },
  "language_info": {
   "codemirror_mode": {
    "name": "ipython",
    "version": 3
   },
   "file_extension": ".py",
   "mimetype": "text/x-python",
   "name": "python",
   "nbconvert_exporter": "python",
   "pygments_lexer": "ipython3",
   "version": "3.11.2"
  },
  "orig_nbformat": 4
 },
 "nbformat": 4,
 "nbformat_minor": 2
}
